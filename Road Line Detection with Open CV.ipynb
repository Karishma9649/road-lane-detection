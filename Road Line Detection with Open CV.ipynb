{
 "cells": [
  {
   "cell_type": "code",
   "execution_count": 1,
   "id": "6ed52d92",
   "metadata": {},
   "outputs": [],
   "source": [
    "import cv2\n",
    "import numpy as np"
   ]
  },
  {
   "cell_type": "code",
   "execution_count": 4,
   "id": "361da8b2",
   "metadata": {},
   "outputs": [],
   "source": [
    "video_path = r'C:\\Users\\ASUS\\AppData\\Local\\Temp\\MicrosoftEdgeDownloads\\5c0ad716-924a-4b1e-9755-de703d2944d4'\n",
    "video = cv2.VideoCapture(video_path)\n",
    "\n",
    "\n"
   ]
  },
  {
   "cell_type": "code",
   "execution_count": null,
   "id": "8afd5308",
   "metadata": {},
   "outputs": [],
   "source": [
    "import cv2\n",
    "import numpy as np\n",
    "\n",
    "video_path = r'C:\\Users\\ASUS\\AppData\\Local\\Temp\\MicrosoftEdgeDownloads\\5c0ad716-924a-4b1e-9755-de703d2944d4'\n",
    "video = cv2.VideoCapture(video_path)\n",
    "\n",
    "while True:\n",
    "    ret, or_frame = video.read()\n",
    "    if not ret:\n",
    "        video = cv2.VideoCapture(video_path)\n",
    "        continue\n",
    "    \n",
    "    frame = cv2.GaussianBlur(or_frame, (5, 5), 0)\n",
    "    hsv = cv2.cvtColor(frame, cv2.COLOR_BGR2HSV)\n",
    "    \n",
    "    lower_y = np.array([18, 94, 140])\n",
    "    upper_y = np.array([48, 255, 255])\n",
    "    \n",
    "    mask = cv2.inRange(hsv, lower_y, upper_y) \n",
    "    edges = cv2.Canny(mask, 74, 150)\n",
    "    lines = cv2.HoughLinesP(edges, 1, np.pi/180, 50, maxLineGap=50)\n",
    "    \n",
    "    if lines is not None:\n",
    "        for line in lines:\n",
    "            x1, y1, x2, y2 = line[0]\n",
    "            cv2.line(frame, (x1, y1), (x2, y2), (0, 255, 0), 5)\n",
    "    \n",
    "    cv2.imshow(\"frame\", frame)\n",
    "    cv2.imshow(\"edges\", edges)\n",
    "    \n",
    "    key = cv2.waitKey(25)\n",
    "    if key == 27:\n",
    "        break\n",
    "\n",
    "cv2.destroyAllWindows()\n",
    "\n",
    "\n",
    "        "
   ]
  },
  {
   "cell_type": "code",
   "execution_count": null,
   "id": "a7f5339d",
   "metadata": {},
   "outputs": [],
   "source": []
  },
  {
   "cell_type": "code",
   "execution_count": null,
   "id": "39603d9e",
   "metadata": {},
   "outputs": [],
   "source": []
  }
 ],
 "metadata": {
  "kernelspec": {
   "display_name": "Python 3 (ipykernel)",
   "language": "python",
   "name": "python3"
  },
  "language_info": {
   "codemirror_mode": {
    "name": "ipython",
    "version": 3
   },
   "file_extension": ".py",
   "mimetype": "text/x-python",
   "name": "python",
   "nbconvert_exporter": "python",
   "pygments_lexer": "ipython3",
   "version": "3.11.3"
  }
 },
 "nbformat": 4,
 "nbformat_minor": 5
}
